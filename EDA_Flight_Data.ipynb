{
  "nbformat": 4,
  "nbformat_minor": 0,
  "metadata": {
    "colab": {
      "provenance": []
    },
    "kernelspec": {
      "name": "python3",
      "display_name": "Python 3"
    },
    "language_info": {
      "name": "python"
    }
  },
  "cells": [
    {
      "cell_type": "code",
      "execution_count": 4,
      "metadata": {
        "id": "yO1x44i-Ozgy"
      },
      "outputs": [],
      "source": [
        "import pandas as pd\n",
        "import numpy as np\n",
        "import seaborn as sns\n",
        "import matplotlib.pyplot as plt"
      ]
    },
    {
      "cell_type": "code",
      "source": [
        "df= pd.read_csv(\"/content/flight cleaning data.csv\")"
      ],
      "metadata": {
        "id": "lfIcFZtRPSWN",
        "colab": {
          "base_uri": "https://localhost:8080/"
        },
        "outputId": "21a01ed4-a19e-40c2-9c82-0581a0f26277"
      },
      "execution_count": 5,
      "outputs": [
        {
          "output_type": "stream",
          "name": "stderr",
          "text": [
            "/tmp/ipython-input-5-625917096.py:1: DtypeWarning: Columns (1,2,3,4,5,6,7,11) have mixed types. Specify dtype option on import or set low_memory=False.\n",
            "  df= pd.read_csv(\"/content/flight cleaning data.csv\")\n"
          ]
        }
      ]
    },
    {
      "cell_type": "code",
      "source": [
        "df.info()"
      ],
      "metadata": {
        "colab": {
          "base_uri": "https://localhost:8080/"
        },
        "id": "0h0fLmy4PgBD",
        "outputId": "57ca5de8-8f20-48b2-9375-a6d49d227159"
      },
      "execution_count": 6,
      "outputs": [
        {
          "output_type": "stream",
          "name": "stdout",
          "text": [
            "<class 'pandas.core.frame.DataFrame'>\n",
            "RangeIndex: 65800 entries, 0 to 65799\n",
            "Data columns (total 16 columns):\n",
            " #   Column                Non-Null Count  Dtype  \n",
            "---  ------                --------------  -----  \n",
            " 0   Unnamed: 0            2500 non-null   float64\n",
            " 1   acc.date              2500 non-null   object \n",
            " 2   type                  2500 non-null   object \n",
            " 3   reg                   2408 non-null   object \n",
            " 4   operator              2486 non-null   object \n",
            " 5   fat                   2488 non-null   object \n",
            " 6   location              2500 non-null   object \n",
            " 7   dmg                   2500 non-null   object \n",
            " 8   2022                  65800 non-null  int64  \n",
            " 9   January               65800 non-null  object \n",
            " 10  Wednesday             65800 non-null  object \n",
            " 11  Is Weekend            2398 non-null   object \n",
            " 12  Fatalities Level      0 non-null      float64\n",
            " 13  Operator Category     65800 non-null  object \n",
            " 14  Damage Reported       65799 non-null  object \n",
            " 15  Registration Present  65799 non-null  object \n",
            "dtypes: float64(2), int64(1), object(13)\n",
            "memory usage: 8.0+ MB\n"
          ]
        }
      ]
    },
    {
      "cell_type": "code",
      "source": [
        "df.head()"
      ],
      "metadata": {
        "colab": {
          "base_uri": "https://localhost:8080/",
          "height": 588
        },
        "id": "CI_sfZ8dP_Si",
        "outputId": "80edc538-bf19-457d-baf1-776596a60023"
      },
      "execution_count": 7,
      "outputs": [
        {
          "output_type": "execute_result",
          "data": {
            "text/plain": [
              "   Unnamed: 0   acc.date                                 type       reg  \\\n",
              "0         0.0  03-Jan-22  British Aerospace 4121 Jetstream 41    ZS-NRJ   \n",
              "1         1.0  04-Jan-22  British Aerospace 3101 Jetstream 31    HR-AYY   \n",
              "2         2.0  05-Jan-22                       Boeing 737-4H6    EP-CAP   \n",
              "3         3.0  08-Jan-22                  Tupolev Tu-204-100C  RA-64032   \n",
              "4         4.0  12-Jan-22        Beechcraft 200 Super King Air       NaN   \n",
              "\n",
              "                                        operator fat  \\\n",
              "0                                     SA Airlink   0   \n",
              "1  LANHSA - Línea Aérea Nacional de Honduras S.A   0   \n",
              "2                               Caspian Airlines   0   \n",
              "3                       Cainiao, opb Aviastar-TU   0   \n",
              "4                                        private   0   \n",
              "\n",
              "                                            location  dmg  2022  January  \\\n",
              "0                          near Venetia Mine Airport  sub  2022  January   \n",
              "1  Roatán-Juan Manuel Gálvez International Airpor...  sub  2022  January   \n",
              "2              Isfahan-Shahid Beheshti Airport (IFN)  sub  2022  January   \n",
              "3      Hangzhou Xiaoshan International Airport (HGH)  w/o  2022  January   \n",
              "4     Machakilha, Toledo District, Grahem Creek area  w/o  2022  January   \n",
              "\n",
              "   Wednesday Is Weekend  Fatalities Level Operator Category Damage Reported  \\\n",
              "0  Wednesday         No               NaN           Private             YES   \n",
              "1  Wednesday         No               NaN           Private             YES   \n",
              "2  Wednesday         No               NaN           Private             YES   \n",
              "3  Wednesday        Yes               NaN           Private             YES   \n",
              "4  Wednesday        NaN               NaN           Private             YES   \n",
              "\n",
              "  Registration Present  \n",
              "0            Available  \n",
              "1            Available  \n",
              "2            Available  \n",
              "3            Available  \n",
              "4            Available  "
            ],
            "text/html": [
              "\n",
              "  <div id=\"df-d47c9a01-2abe-4ec6-a24e-4beb2752e7f0\" class=\"colab-df-container\">\n",
              "    <div>\n",
              "<style scoped>\n",
              "    .dataframe tbody tr th:only-of-type {\n",
              "        vertical-align: middle;\n",
              "    }\n",
              "\n",
              "    .dataframe tbody tr th {\n",
              "        vertical-align: top;\n",
              "    }\n",
              "\n",
              "    .dataframe thead th {\n",
              "        text-align: right;\n",
              "    }\n",
              "</style>\n",
              "<table border=\"1\" class=\"dataframe\">\n",
              "  <thead>\n",
              "    <tr style=\"text-align: right;\">\n",
              "      <th></th>\n",
              "      <th>Unnamed: 0</th>\n",
              "      <th>acc.date</th>\n",
              "      <th>type</th>\n",
              "      <th>reg</th>\n",
              "      <th>operator</th>\n",
              "      <th>fat</th>\n",
              "      <th>location</th>\n",
              "      <th>dmg</th>\n",
              "      <th>2022</th>\n",
              "      <th>January</th>\n",
              "      <th>Wednesday</th>\n",
              "      <th>Is Weekend</th>\n",
              "      <th>Fatalities Level</th>\n",
              "      <th>Operator Category</th>\n",
              "      <th>Damage Reported</th>\n",
              "      <th>Registration Present</th>\n",
              "    </tr>\n",
              "  </thead>\n",
              "  <tbody>\n",
              "    <tr>\n",
              "      <th>0</th>\n",
              "      <td>0.0</td>\n",
              "      <td>03-Jan-22</td>\n",
              "      <td>British Aerospace 4121 Jetstream 41</td>\n",
              "      <td>ZS-NRJ</td>\n",
              "      <td>SA Airlink</td>\n",
              "      <td>0</td>\n",
              "      <td>near Venetia Mine Airport</td>\n",
              "      <td>sub</td>\n",
              "      <td>2022</td>\n",
              "      <td>January</td>\n",
              "      <td>Wednesday</td>\n",
              "      <td>No</td>\n",
              "      <td>NaN</td>\n",
              "      <td>Private</td>\n",
              "      <td>YES</td>\n",
              "      <td>Available</td>\n",
              "    </tr>\n",
              "    <tr>\n",
              "      <th>1</th>\n",
              "      <td>1.0</td>\n",
              "      <td>04-Jan-22</td>\n",
              "      <td>British Aerospace 3101 Jetstream 31</td>\n",
              "      <td>HR-AYY</td>\n",
              "      <td>LANHSA - Línea Aérea Nacional de Honduras S.A</td>\n",
              "      <td>0</td>\n",
              "      <td>Roatán-Juan Manuel Gálvez International Airpor...</td>\n",
              "      <td>sub</td>\n",
              "      <td>2022</td>\n",
              "      <td>January</td>\n",
              "      <td>Wednesday</td>\n",
              "      <td>No</td>\n",
              "      <td>NaN</td>\n",
              "      <td>Private</td>\n",
              "      <td>YES</td>\n",
              "      <td>Available</td>\n",
              "    </tr>\n",
              "    <tr>\n",
              "      <th>2</th>\n",
              "      <td>2.0</td>\n",
              "      <td>05-Jan-22</td>\n",
              "      <td>Boeing 737-4H6</td>\n",
              "      <td>EP-CAP</td>\n",
              "      <td>Caspian Airlines</td>\n",
              "      <td>0</td>\n",
              "      <td>Isfahan-Shahid Beheshti Airport (IFN)</td>\n",
              "      <td>sub</td>\n",
              "      <td>2022</td>\n",
              "      <td>January</td>\n",
              "      <td>Wednesday</td>\n",
              "      <td>No</td>\n",
              "      <td>NaN</td>\n",
              "      <td>Private</td>\n",
              "      <td>YES</td>\n",
              "      <td>Available</td>\n",
              "    </tr>\n",
              "    <tr>\n",
              "      <th>3</th>\n",
              "      <td>3.0</td>\n",
              "      <td>08-Jan-22</td>\n",
              "      <td>Tupolev Tu-204-100C</td>\n",
              "      <td>RA-64032</td>\n",
              "      <td>Cainiao, opb Aviastar-TU</td>\n",
              "      <td>0</td>\n",
              "      <td>Hangzhou Xiaoshan International Airport (HGH)</td>\n",
              "      <td>w/o</td>\n",
              "      <td>2022</td>\n",
              "      <td>January</td>\n",
              "      <td>Wednesday</td>\n",
              "      <td>Yes</td>\n",
              "      <td>NaN</td>\n",
              "      <td>Private</td>\n",
              "      <td>YES</td>\n",
              "      <td>Available</td>\n",
              "    </tr>\n",
              "    <tr>\n",
              "      <th>4</th>\n",
              "      <td>4.0</td>\n",
              "      <td>12-Jan-22</td>\n",
              "      <td>Beechcraft 200 Super King Air</td>\n",
              "      <td>NaN</td>\n",
              "      <td>private</td>\n",
              "      <td>0</td>\n",
              "      <td>Machakilha, Toledo District, Grahem Creek area</td>\n",
              "      <td>w/o</td>\n",
              "      <td>2022</td>\n",
              "      <td>January</td>\n",
              "      <td>Wednesday</td>\n",
              "      <td>NaN</td>\n",
              "      <td>NaN</td>\n",
              "      <td>Private</td>\n",
              "      <td>YES</td>\n",
              "      <td>Available</td>\n",
              "    </tr>\n",
              "  </tbody>\n",
              "</table>\n",
              "</div>\n",
              "    <div class=\"colab-df-buttons\">\n",
              "\n",
              "  <div class=\"colab-df-container\">\n",
              "    <button class=\"colab-df-convert\" onclick=\"convertToInteractive('df-d47c9a01-2abe-4ec6-a24e-4beb2752e7f0')\"\n",
              "            title=\"Convert this dataframe to an interactive table.\"\n",
              "            style=\"display:none;\">\n",
              "\n",
              "  <svg xmlns=\"http://www.w3.org/2000/svg\" height=\"24px\" viewBox=\"0 -960 960 960\">\n",
              "    <path d=\"M120-120v-720h720v720H120Zm60-500h600v-160H180v160Zm220 220h160v-160H400v160Zm0 220h160v-160H400v160ZM180-400h160v-160H180v160Zm440 0h160v-160H620v160ZM180-180h160v-160H180v160Zm440 0h160v-160H620v160Z\"/>\n",
              "  </svg>\n",
              "    </button>\n",
              "\n",
              "  <style>\n",
              "    .colab-df-container {\n",
              "      display:flex;\n",
              "      gap: 12px;\n",
              "    }\n",
              "\n",
              "    .colab-df-convert {\n",
              "      background-color: #E8F0FE;\n",
              "      border: none;\n",
              "      border-radius: 50%;\n",
              "      cursor: pointer;\n",
              "      display: none;\n",
              "      fill: #1967D2;\n",
              "      height: 32px;\n",
              "      padding: 0 0 0 0;\n",
              "      width: 32px;\n",
              "    }\n",
              "\n",
              "    .colab-df-convert:hover {\n",
              "      background-color: #E2EBFA;\n",
              "      box-shadow: 0px 1px 2px rgba(60, 64, 67, 0.3), 0px 1px 3px 1px rgba(60, 64, 67, 0.15);\n",
              "      fill: #174EA6;\n",
              "    }\n",
              "\n",
              "    .colab-df-buttons div {\n",
              "      margin-bottom: 4px;\n",
              "    }\n",
              "\n",
              "    [theme=dark] .colab-df-convert {\n",
              "      background-color: #3B4455;\n",
              "      fill: #D2E3FC;\n",
              "    }\n",
              "\n",
              "    [theme=dark] .colab-df-convert:hover {\n",
              "      background-color: #434B5C;\n",
              "      box-shadow: 0px 1px 3px 1px rgba(0, 0, 0, 0.15);\n",
              "      filter: drop-shadow(0px 1px 2px rgba(0, 0, 0, 0.3));\n",
              "      fill: #FFFFFF;\n",
              "    }\n",
              "  </style>\n",
              "\n",
              "    <script>\n",
              "      const buttonEl =\n",
              "        document.querySelector('#df-d47c9a01-2abe-4ec6-a24e-4beb2752e7f0 button.colab-df-convert');\n",
              "      buttonEl.style.display =\n",
              "        google.colab.kernel.accessAllowed ? 'block' : 'none';\n",
              "\n",
              "      async function convertToInteractive(key) {\n",
              "        const element = document.querySelector('#df-d47c9a01-2abe-4ec6-a24e-4beb2752e7f0');\n",
              "        const dataTable =\n",
              "          await google.colab.kernel.invokeFunction('convertToInteractive',\n",
              "                                                    [key], {});\n",
              "        if (!dataTable) return;\n",
              "\n",
              "        const docLinkHtml = 'Like what you see? Visit the ' +\n",
              "          '<a target=\"_blank\" href=https://colab.research.google.com/notebooks/data_table.ipynb>data table notebook</a>'\n",
              "          + ' to learn more about interactive tables.';\n",
              "        element.innerHTML = '';\n",
              "        dataTable['output_type'] = 'display_data';\n",
              "        await google.colab.output.renderOutput(dataTable, element);\n",
              "        const docLink = document.createElement('div');\n",
              "        docLink.innerHTML = docLinkHtml;\n",
              "        element.appendChild(docLink);\n",
              "      }\n",
              "    </script>\n",
              "  </div>\n",
              "\n",
              "\n",
              "    <div id=\"df-a3b1313d-c025-4301-b0cc-a5be72d5c625\">\n",
              "      <button class=\"colab-df-quickchart\" onclick=\"quickchart('df-a3b1313d-c025-4301-b0cc-a5be72d5c625')\"\n",
              "                title=\"Suggest charts\"\n",
              "                style=\"display:none;\">\n",
              "\n",
              "<svg xmlns=\"http://www.w3.org/2000/svg\" height=\"24px\"viewBox=\"0 0 24 24\"\n",
              "     width=\"24px\">\n",
              "    <g>\n",
              "        <path d=\"M19 3H5c-1.1 0-2 .9-2 2v14c0 1.1.9 2 2 2h14c1.1 0 2-.9 2-2V5c0-1.1-.9-2-2-2zM9 17H7v-7h2v7zm4 0h-2V7h2v10zm4 0h-2v-4h2v4z\"/>\n",
              "    </g>\n",
              "</svg>\n",
              "      </button>\n",
              "\n",
              "<style>\n",
              "  .colab-df-quickchart {\n",
              "      --bg-color: #E8F0FE;\n",
              "      --fill-color: #1967D2;\n",
              "      --hover-bg-color: #E2EBFA;\n",
              "      --hover-fill-color: #174EA6;\n",
              "      --disabled-fill-color: #AAA;\n",
              "      --disabled-bg-color: #DDD;\n",
              "  }\n",
              "\n",
              "  [theme=dark] .colab-df-quickchart {\n",
              "      --bg-color: #3B4455;\n",
              "      --fill-color: #D2E3FC;\n",
              "      --hover-bg-color: #434B5C;\n",
              "      --hover-fill-color: #FFFFFF;\n",
              "      --disabled-bg-color: #3B4455;\n",
              "      --disabled-fill-color: #666;\n",
              "  }\n",
              "\n",
              "  .colab-df-quickchart {\n",
              "    background-color: var(--bg-color);\n",
              "    border: none;\n",
              "    border-radius: 50%;\n",
              "    cursor: pointer;\n",
              "    display: none;\n",
              "    fill: var(--fill-color);\n",
              "    height: 32px;\n",
              "    padding: 0;\n",
              "    width: 32px;\n",
              "  }\n",
              "\n",
              "  .colab-df-quickchart:hover {\n",
              "    background-color: var(--hover-bg-color);\n",
              "    box-shadow: 0 1px 2px rgba(60, 64, 67, 0.3), 0 1px 3px 1px rgba(60, 64, 67, 0.15);\n",
              "    fill: var(--button-hover-fill-color);\n",
              "  }\n",
              "\n",
              "  .colab-df-quickchart-complete:disabled,\n",
              "  .colab-df-quickchart-complete:disabled:hover {\n",
              "    background-color: var(--disabled-bg-color);\n",
              "    fill: var(--disabled-fill-color);\n",
              "    box-shadow: none;\n",
              "  }\n",
              "\n",
              "  .colab-df-spinner {\n",
              "    border: 2px solid var(--fill-color);\n",
              "    border-color: transparent;\n",
              "    border-bottom-color: var(--fill-color);\n",
              "    animation:\n",
              "      spin 1s steps(1) infinite;\n",
              "  }\n",
              "\n",
              "  @keyframes spin {\n",
              "    0% {\n",
              "      border-color: transparent;\n",
              "      border-bottom-color: var(--fill-color);\n",
              "      border-left-color: var(--fill-color);\n",
              "    }\n",
              "    20% {\n",
              "      border-color: transparent;\n",
              "      border-left-color: var(--fill-color);\n",
              "      border-top-color: var(--fill-color);\n",
              "    }\n",
              "    30% {\n",
              "      border-color: transparent;\n",
              "      border-left-color: var(--fill-color);\n",
              "      border-top-color: var(--fill-color);\n",
              "      border-right-color: var(--fill-color);\n",
              "    }\n",
              "    40% {\n",
              "      border-color: transparent;\n",
              "      border-right-color: var(--fill-color);\n",
              "      border-top-color: var(--fill-color);\n",
              "    }\n",
              "    60% {\n",
              "      border-color: transparent;\n",
              "      border-right-color: var(--fill-color);\n",
              "    }\n",
              "    80% {\n",
              "      border-color: transparent;\n",
              "      border-right-color: var(--fill-color);\n",
              "      border-bottom-color: var(--fill-color);\n",
              "    }\n",
              "    90% {\n",
              "      border-color: transparent;\n",
              "      border-bottom-color: var(--fill-color);\n",
              "    }\n",
              "  }\n",
              "</style>\n",
              "\n",
              "      <script>\n",
              "        async function quickchart(key) {\n",
              "          const quickchartButtonEl =\n",
              "            document.querySelector('#' + key + ' button');\n",
              "          quickchartButtonEl.disabled = true;  // To prevent multiple clicks.\n",
              "          quickchartButtonEl.classList.add('colab-df-spinner');\n",
              "          try {\n",
              "            const charts = await google.colab.kernel.invokeFunction(\n",
              "                'suggestCharts', [key], {});\n",
              "          } catch (error) {\n",
              "            console.error('Error during call to suggestCharts:', error);\n",
              "          }\n",
              "          quickchartButtonEl.classList.remove('colab-df-spinner');\n",
              "          quickchartButtonEl.classList.add('colab-df-quickchart-complete');\n",
              "        }\n",
              "        (() => {\n",
              "          let quickchartButtonEl =\n",
              "            document.querySelector('#df-a3b1313d-c025-4301-b0cc-a5be72d5c625 button');\n",
              "          quickchartButtonEl.style.display =\n",
              "            google.colab.kernel.accessAllowed ? 'block' : 'none';\n",
              "        })();\n",
              "      </script>\n",
              "    </div>\n",
              "\n",
              "    </div>\n",
              "  </div>\n"
            ],
            "application/vnd.google.colaboratory.intrinsic+json": {
              "type": "dataframe",
              "variable_name": "df",
              "summary": "{\n  \"name\": \"df\",\n  \"rows\": 65800,\n  \"fields\": [\n    {\n      \"column\": \"Unnamed: 0\",\n      \"properties\": {\n        \"dtype\": \"number\",\n        \"std\": 360.91599319184604,\n        \"min\": 0.0,\n        \"max\": 1249.0,\n        \"num_unique_values\": 1250,\n        \"samples\": [\n          680.0,\n          1102.0,\n          394.0\n        ],\n        \"semantic_type\": \"\",\n        \"description\": \"\"\n      }\n    },\n    {\n      \"column\": \"acc.date\",\n      \"properties\": {\n        \"dtype\": \"category\",\n        \"num_unique_values\": 871,\n        \"samples\": [\n          \"08-May-20\",\n          \"10-Jun-22\",\n          \"23-Dec-20\"\n        ],\n        \"semantic_type\": \"\",\n        \"description\": \"\"\n      }\n    },\n    {\n      \"column\": \"type\",\n      \"properties\": {\n        \"dtype\": \"category\",\n        \"num_unique_values\": 523,\n        \"samples\": [\n          \"Boeing 757-2B7 (WL)\",\n          \"Antonov An-24RV\",\n          \"Cessna 208B Grand Caravan EX\"\n        ],\n        \"semantic_type\": \"\",\n        \"description\": \"\"\n      }\n    },\n    {\n      \"column\": \"reg\",\n      \"properties\": {\n        \"dtype\": \"category\",\n        \"num_unique_values\": 1194,\n        \"samples\": [\n          \"VT-IJT\",\n          \"RA-82042\",\n          \"N1217A\"\n        ],\n        \"semantic_type\": \"\",\n        \"description\": \"\"\n      }\n    },\n    {\n      \"column\": \"operator\",\n      \"properties\": {\n        \"dtype\": \"category\",\n        \"num_unique_values\": 827,\n        \"samples\": [\n          \"MM-Air LLC\",\n          \"Air Taxi Vanuatu\",\n          \"Air Tunilik\"\n        ],\n        \"semantic_type\": \"\",\n        \"description\": \"\"\n      }\n    },\n    {\n      \"column\": \"fat\",\n      \"properties\": {\n        \"dtype\": \"category\",\n        \"num_unique_values\": 47,\n        \"samples\": [\n          \"97+1\",\n          \"71\",\n          \"176\"\n        ],\n        \"semantic_type\": \"\",\n        \"description\": \"\"\n      }\n    },\n    {\n      \"column\": \"location\",\n      \"properties\": {\n        \"dtype\": \"category\",\n        \"num_unique_values\": 1059,\n        \"samples\": [\n          \"Phoenix-Sky Harbor International Airport, AZ (PHX/KPHX)\",\n          \"Jes\\u00fas Mar\\u00eda Sempr\\u00fan, Zulia\",\n          \"Eldorado do Sul, RS\"\n        ],\n        \"semantic_type\": \"\",\n        \"description\": \"\"\n      }\n    },\n    {\n      \"column\": \"dmg\",\n      \"properties\": {\n        \"dtype\": \"category\",\n        \"num_unique_values\": 6,\n        \"samples\": [\n          \"sub\",\n          \"w/o\",\n          \"mis\"\n        ],\n        \"semantic_type\": \"\",\n        \"description\": \"\"\n      }\n    },\n    {\n      \"column\": \"2022\",\n      \"properties\": {\n        \"dtype\": \"number\",\n        \"std\": 0,\n        \"min\": 2022,\n        \"max\": 2022,\n        \"num_unique_values\": 1,\n        \"samples\": [\n          2022\n        ],\n        \"semantic_type\": \"\",\n        \"description\": \"\"\n      }\n    },\n    {\n      \"column\": \"January\",\n      \"properties\": {\n        \"dtype\": \"category\",\n        \"num_unique_values\": 1,\n        \"samples\": [\n          \"January\"\n        ],\n        \"semantic_type\": \"\",\n        \"description\": \"\"\n      }\n    },\n    {\n      \"column\": \"Wednesday\",\n      \"properties\": {\n        \"dtype\": \"category\",\n        \"num_unique_values\": 1,\n        \"samples\": [\n          \"Wednesday\"\n        ],\n        \"semantic_type\": \"\",\n        \"description\": \"\"\n      }\n    },\n    {\n      \"column\": \"Is Weekend\",\n      \"properties\": {\n        \"dtype\": \"category\",\n        \"num_unique_values\": 2,\n        \"samples\": [\n          \"Yes\"\n        ],\n        \"semantic_type\": \"\",\n        \"description\": \"\"\n      }\n    },\n    {\n      \"column\": \"Fatalities Level\",\n      \"properties\": {\n        \"dtype\": \"number\",\n        \"std\": null,\n        \"min\": null,\n        \"max\": null,\n        \"num_unique_values\": 0,\n        \"samples\": [],\n        \"semantic_type\": \"\",\n        \"description\": \"\"\n      }\n    },\n    {\n      \"column\": \"Operator Category\",\n      \"properties\": {\n        \"dtype\": \"category\",\n        \"num_unique_values\": 1,\n        \"samples\": [],\n        \"semantic_type\": \"\",\n        \"description\": \"\"\n      }\n    },\n    {\n      \"column\": \"Damage Reported\",\n      \"properties\": {\n        \"dtype\": \"category\",\n        \"num_unique_values\": 1,\n        \"samples\": [],\n        \"semantic_type\": \"\",\n        \"description\": \"\"\n      }\n    },\n    {\n      \"column\": \"Registration Present\",\n      \"properties\": {\n        \"dtype\": \"category\",\n        \"num_unique_values\": 1,\n        \"samples\": [],\n        \"semantic_type\": \"\",\n        \"description\": \"\"\n      }\n    }\n  ]\n}"
            }
          },
          "metadata": {},
          "execution_count": 7
        }
      ]
    },
    {
      "cell_type": "markdown",
      "source": [
        "#1. How many crashes occurred on weekends vs weekdays?"
      ],
      "metadata": {
        "id": "Ec2tkvs7QXaY"
      }
    },
    {
      "cell_type": "code",
      "source": [
        "weekend_counts = df['Is Weekend'].value_counts()\n",
        "print(weekend_counts)"
      ],
      "metadata": {
        "colab": {
          "base_uri": "https://localhost:8080/"
        },
        "id": "NeLJmLWYQIPX",
        "outputId": "ccd710b4-82cb-4126-f97c-a2ec9938c953"
      },
      "execution_count": 8,
      "outputs": [
        {
          "output_type": "stream",
          "name": "stdout",
          "text": [
            "Is Weekend\n",
            "No     1752\n",
            "Yes     646\n",
            "Name: count, dtype: int64\n"
          ]
        }
      ]
    },
    {
      "cell_type": "markdown",
      "source": [
        "#2. What is the average number of fatalities by 'Fatalities Level'?"
      ],
      "metadata": {
        "id": "IUOH5lXdQvKM"
      }
    },
    {
      "cell_type": "code",
      "source": [
        "df['fat']= pd.to_numeric(df['fat'], errors= 'coerce')\n"
      ],
      "metadata": {
        "id": "vYKK1fkZQkjR"
      },
      "execution_count": 9,
      "outputs": []
    },
    {
      "cell_type": "code",
      "source": [
        "avg_fatal_by_level = df.groupby('Fatalities Level')['fat'].mean()\n",
        "print(avg_fatal_by_level)"
      ],
      "metadata": {
        "colab": {
          "base_uri": "https://localhost:8080/"
        },
        "id": "m4LVwdXURi1m",
        "outputId": "ac9acb02-6033-45fe-875d-e40c717e4a78"
      },
      "execution_count": 10,
      "outputs": [
        {
          "output_type": "stream",
          "name": "stdout",
          "text": [
            "Series([], Name: fat, dtype: float64)\n"
          ]
        }
      ]
    },
    {
      "cell_type": "markdown",
      "source": [
        "#3. Count how many crashes happened in each month (e.g., January, February)."
      ],
      "metadata": {
        "id": "Cd8UM-qSR3-J"
      }
    },
    {
      "cell_type": "code",
      "source": [
        "monthly_crashes = df['January'].value_counts()"
      ],
      "metadata": {
        "id": "9pwoQga-RjW3"
      },
      "execution_count": 11,
      "outputs": []
    },
    {
      "cell_type": "code",
      "source": [
        "print(monthly_crashes)"
      ],
      "metadata": {
        "colab": {
          "base_uri": "https://localhost:8080/"
        },
        "id": "rUKmT4SpTyQF",
        "outputId": "bc416949-302f-4eea-ef17-a9a0a434edfd"
      },
      "execution_count": 12,
      "outputs": [
        {
          "output_type": "stream",
          "name": "stdout",
          "text": [
            "January\n",
            "January    65800\n",
            "Name: count, dtype: int64\n"
          ]
        }
      ]
    },
    {
      "cell_type": "markdown",
      "source": [
        "#4. Which operator category has the highest number of crashes?"
      ],
      "metadata": {
        "id": "M1CqUH6CUBU-"
      }
    },
    {
      "cell_type": "code",
      "source": [
        "operator_category = df['Operator Category'].value_counts()\n",
        "print(operator_category)"
      ],
      "metadata": {
        "colab": {
          "base_uri": "https://localhost:8080/"
        },
        "id": "y47uhnYJUFa_",
        "outputId": "f2ef0e00-8fe5-42b3-ef19-5dab3b3ab575"
      },
      "execution_count": 13,
      "outputs": [
        {
          "output_type": "stream",
          "name": "stdout",
          "text": [
            "Operator Category\n",
            "Private    65800\n",
            "Name: count, dtype: int64\n"
          ]
        }
      ]
    },
    {
      "cell_type": "markdown",
      "source": [
        "#5. Count how many aircrafts had missing registration numbers."
      ],
      "metadata": {
        "id": "iNBAuYU4UhGO"
      }
    },
    {
      "cell_type": "code",
      "source": [
        "missing_regs = df[df['Registration Present'] == 'Missing']\n",
        "print(\"Missing Registration Number:\", len(missing_regs))"
      ],
      "metadata": {
        "colab": {
          "base_uri": "https://localhost:8080/"
        },
        "id": "3v703eQYUZzc",
        "outputId": "75f934f6-6850-4839-dc4d-c1e4ecdac5db"
      },
      "execution_count": 14,
      "outputs": [
        {
          "output_type": "stream",
          "name": "stdout",
          "text": [
            "Missing Registration Number: 0\n"
          ]
        }
      ]
    },
    {
      "cell_type": "markdown",
      "source": [
        "#6. How many crashes had damage reported?"
      ],
      "metadata": {
        "id": "bksKonTFV3ib"
      }
    },
    {
      "cell_type": "code",
      "source": [
        "damage_reported = df[df['Damage Reported'] == 'Yes'].shape[0]\n",
        "print(\"Damage Reported in crashes:\", damage_reported)"
      ],
      "metadata": {
        "colab": {
          "base_uri": "https://localhost:8080/"
        },
        "id": "aAunIvXUVrI_",
        "outputId": "53c26fa0-593e-435a-916e-4db1f4674766"
      },
      "execution_count": 15,
      "outputs": [
        {
          "output_type": "stream",
          "name": "stdout",
          "text": [
            "Damage Reported in crashes: 0\n"
          ]
        }
      ]
    },
    {
      "cell_type": "markdown",
      "source": [
        "#7. What is the most common day of the week for crashes?"
      ],
      "metadata": {
        "id": "wdJrC6RLao7T"
      }
    },
    {
      "cell_type": "code",
      "source": [
        "day_counts = df['Wednesday'].value_counts()\n",
        "print(day_counts)"
      ],
      "metadata": {
        "colab": {
          "base_uri": "https://localhost:8080/"
        },
        "id": "SuMMSuDRXXZl",
        "outputId": "3eed3436-58a9-4b29-c0d2-83566e1f06c6"
      },
      "execution_count": 16,
      "outputs": [
        {
          "output_type": "stream",
          "name": "stdout",
          "text": [
            "Wednesday\n",
            "Wednesday    65800\n",
            "Name: count, dtype: int64\n"
          ]
        }
      ]
    },
    {
      "cell_type": "markdown",
      "source": [
        "#8. Show top 5 locations where most crashes occurred."
      ],
      "metadata": {
        "id": "irbObTYebPwZ"
      }
    },
    {
      "cell_type": "code",
      "source": [
        "top_locations =df['location'].value_counts().head(5)\n",
        "print(top_locations)"
      ],
      "metadata": {
        "colab": {
          "base_uri": "https://localhost:8080/"
        },
        "id": "Vx2f2vUQbeHh",
        "outputId": "07a776a6-a668-4298-d348-9a6cdcffe99a"
      },
      "execution_count": 17,
      "outputs": [
        {
          "output_type": "stream",
          "name": "stdout",
          "text": [
            "location\n",
            "Chicago-O'Hare International Airport, IL (ORD/KORD)    28\n",
            "Nashville-John C. Tune Airport, TN (KJWN)              24\n",
            "Denver International Airport, CO (DEN/KDEN)            16\n",
            "Houston-William P. Hobby Airport, TX (HOU)             14\n",
            "Vancouver International Airport, BC (YVR/CYVR)         14\n",
            "Name: count, dtype: int64\n"
          ]
        }
      ]
    },
    {
      "cell_type": "code",
      "source": [],
      "metadata": {
        "id": "3q34Cyg-cLsK"
      },
      "execution_count": null,
      "outputs": []
    }
  ]
}